{
 "cells": [
  {
   "cell_type": "code",
   "execution_count": 10,
   "id": "d1535376-2807-4bca-98d6-9e9519003015",
   "metadata": {},
   "outputs": [],
   "source": [
    "### in this task missing values *should be imputed* with the mean value of the column\n",
    "### impute missing values only in columns required for solutions"
   ]
  },
  {
   "cell_type": "code",
   "execution_count": 2,
   "id": "f8255ea1-d3e9-4fbd-90b1-02d0ff7b7f9e",
   "metadata": {
    "tags": []
   },
   "outputs": [],
   "source": [
    "import pandas as pd\n",
    "import matplotlib.pyplot as plt\n",
    "plt.rcParams.update({'font.size': 20, 'figure.figsize': (8, 4)})\n",
    "\n",
    "#%matplotlib inline\n",
    "#import matplotlib_inline\n",
    "#matplotlib_inline.backend_inline.set_matplotlib_formats('svg')\n",
    "\n",
    "import seaborn as sns\n",
    "sns.set()"
   ]
  },
  {
   "cell_type": "code",
   "execution_count": 3,
   "id": "02062230-22bd-45bd-99c6-bf8a79bfcc2d",
   "metadata": {},
   "outputs": [
    {
     "name": "stdout",
     "output_type": "stream",
     "text": [
      "<class 'pandas.core.frame.DataFrame'>\n",
      "RangeIndex: 946 entries, 0 to 945\n",
      "Data columns (total 9 columns):\n",
      " #   Column       Non-Null Count  Dtype  \n",
      "---  ------       --------------  -----  \n",
      " 0   title        946 non-null    object \n",
      " 1   author       824 non-null    object \n",
      " 2   price        944 non-null    float64\n",
      " 3   pages        934 non-null    float64\n",
      " 4   avg_reviews  823 non-null    float64\n",
      " 5   n_reviews    946 non-null    int64  \n",
      " 6   dimensions   914 non-null    object \n",
      " 7   weight       943 non-null    object \n",
      " 8   language     943 non-null    object \n",
      "dtypes: float64(3), int64(1), object(5)\n",
      "memory usage: 66.6+ KB\n"
     ]
    }
   ],
   "source": [
    "df = pd.read_csv(\"amazon_books_data.csv\")\n",
    "df.info()"
   ]
  },
  {
   "cell_type": "markdown",
   "id": "4c919712-dccb-4dbc-8e3d-baa0f3d0e4b2",
   "metadata": {},
   "source": [
    "#### Question 1"
   ]
  },
  {
   "cell_type": "code",
   "execution_count": 4,
   "id": "49c51667-303d-4ae5-a449-bc61d58f1b13",
   "metadata": {},
   "outputs": [],
   "source": [
    "### decide what data type each column is: numerical-discrete, numerical-continuous, categorical-nominal, categorical-ordinal\n",
    "### consider only [price, pages, avg_reviews, n_reviews, language] for this analysis\n",
    "### no need to add explanations, just the final answer"
   ]
  },
  {
   "cell_type": "code",
   "execution_count": 8,
   "id": "5bcfd3bb-cee2-4b40-8b5a-37407943a414",
   "metadata": {},
   "outputs": [
    {
     "data": {
      "text/html": [
       "<div>\n",
       "<style scoped>\n",
       "    .dataframe tbody tr th:only-of-type {\n",
       "        vertical-align: middle;\n",
       "    }\n",
       "\n",
       "    .dataframe tbody tr th {\n",
       "        vertical-align: top;\n",
       "    }\n",
       "\n",
       "    .dataframe thead th {\n",
       "        text-align: right;\n",
       "    }\n",
       "</style>\n",
       "<table border=\"1\" class=\"dataframe\">\n",
       "  <thead>\n",
       "    <tr style=\"text-align: right;\">\n",
       "      <th></th>\n",
       "      <th>title</th>\n",
       "      <th>author</th>\n",
       "      <th>price</th>\n",
       "      <th>pages</th>\n",
       "      <th>avg_reviews</th>\n",
       "      <th>n_reviews</th>\n",
       "      <th>dimensions</th>\n",
       "      <th>weight</th>\n",
       "      <th>language</th>\n",
       "    </tr>\n",
       "  </thead>\n",
       "  <tbody>\n",
       "    <tr>\n",
       "      <th>0</th>\n",
       "      <td>Becoming a Data Head: How to Think Speak and U...</td>\n",
       "      <td>[Alex J. Gutman,Jordan Goldmeier]</td>\n",
       "      <td>24.49</td>\n",
       "      <td>272.0</td>\n",
       "      <td>4.6</td>\n",
       "      <td>184</td>\n",
       "      <td>6 x 0.62 x 9 inches</td>\n",
       "      <td>12.5 ounces</td>\n",
       "      <td>English</td>\n",
       "    </tr>\n",
       "    <tr>\n",
       "      <th>1</th>\n",
       "      <td>Ace the Data Science Interview: 201 Real Inter...</td>\n",
       "      <td>[Nick Singh,Kevin Huo]</td>\n",
       "      <td>26.00</td>\n",
       "      <td>301.0</td>\n",
       "      <td>4.5</td>\n",
       "      <td>599</td>\n",
       "      <td>7 x 0.68 x 10 inches</td>\n",
       "      <td>1.28 pounds</td>\n",
       "      <td>English</td>\n",
       "    </tr>\n",
       "    <tr>\n",
       "      <th>2</th>\n",
       "      <td>Fundamentals of Data Engineering: Plan and Bui...</td>\n",
       "      <td>[Joe Reis,Matt Housley]</td>\n",
       "      <td>50.76</td>\n",
       "      <td>446.0</td>\n",
       "      <td>5.0</td>\n",
       "      <td>33</td>\n",
       "      <td>7 x 1 x 9.25 inches</td>\n",
       "      <td>1.57 pounds</td>\n",
       "      <td>English</td>\n",
       "    </tr>\n",
       "    <tr>\n",
       "      <th>3</th>\n",
       "      <td>Essential Math for Data Science: Take Control ...</td>\n",
       "      <td>[Thomas Nield]</td>\n",
       "      <td>44.80</td>\n",
       "      <td>347.0</td>\n",
       "      <td>4.5</td>\n",
       "      <td>27</td>\n",
       "      <td>7 x 0.75 x 9 inches</td>\n",
       "      <td>1.23 pounds</td>\n",
       "      <td>English</td>\n",
       "    </tr>\n",
       "    <tr>\n",
       "      <th>4</th>\n",
       "      <td>Data Science for Business: What You Need to Kn...</td>\n",
       "      <td>[Foster Provost,Tom Fawcett]</td>\n",
       "      <td>36.99</td>\n",
       "      <td>413.0</td>\n",
       "      <td>4.5</td>\n",
       "      <td>970</td>\n",
       "      <td>7 x 0.9 x 9.19 inches</td>\n",
       "      <td>1.5 pounds</td>\n",
       "      <td>English</td>\n",
       "    </tr>\n",
       "  </tbody>\n",
       "</table>\n",
       "</div>"
      ],
      "text/plain": [
       "                                               title  \\\n",
       "0  Becoming a Data Head: How to Think Speak and U...   \n",
       "1  Ace the Data Science Interview: 201 Real Inter...   \n",
       "2  Fundamentals of Data Engineering: Plan and Bui...   \n",
       "3  Essential Math for Data Science: Take Control ...   \n",
       "4  Data Science for Business: What You Need to Kn...   \n",
       "\n",
       "                              author  price  pages  avg_reviews  n_reviews  \\\n",
       "0  [Alex J. Gutman,Jordan Goldmeier]  24.49  272.0          4.6        184   \n",
       "1             [Nick Singh,Kevin Huo]  26.00  301.0          4.5        599   \n",
       "2            [Joe Reis,Matt Housley]  50.76  446.0          5.0         33   \n",
       "3                     [Thomas Nield]  44.80  347.0          4.5         27   \n",
       "4       [Foster Provost,Tom Fawcett]  36.99  413.0          4.5        970   \n",
       "\n",
       "              dimensions       weight language  \n",
       "0    6 x 0.62 x 9 inches  12.5 ounces  English  \n",
       "1   7 x 0.68 x 10 inches  1.28 pounds  English  \n",
       "2    7 x 1 x 9.25 inches  1.57 pounds  English  \n",
       "3    7 x 0.75 x 9 inches  1.23 pounds  English  \n",
       "4  7 x 0.9 x 9.19 inches   1.5 pounds  English  "
      ]
     },
     "execution_count": 8,
     "metadata": {},
     "output_type": "execute_result"
    }
   ],
   "source": [
    "df.head()"
   ]
  },
  {
   "cell_type": "code",
   "execution_count": 10,
   "id": "c5942df7-ca87-4c73-a29b-769c49547ea4",
   "metadata": {},
   "outputs": [],
   "source": [
    "datatypes = {\n",
    "    \"price\": \"numerical-continuous\",\n",
    "    \"pages\": \"numerical-discrete\",\n",
    "    \"avg_reviews\": \"numerical-continuous\",\n",
    "    \"n_reviews\": \"numerical-discrete\",\n",
    "    \"language\": \"categorical-nominal\",\n",
    "}"
   ]
  },
  {
   "cell_type": "markdown",
   "id": "165920b1-0135-4593-a162-8d4eba529990",
   "metadata": {},
   "source": [
    "#### Question 2"
   ]
  },
  {
   "cell_type": "code",
   "execution_count": 17,
   "id": "347ba3ec-c639-4589-bbd7-3f3449d31829",
   "metadata": {},
   "outputs": [],
   "source": [
    "### plot a histogram of books' number of pages using 50 bins\n",
    "### decide if the distribution is symmetric, skewed positive or skewed negative\n",
    "### use both the histogram and required computations for this decision"
   ]
  },
  {
   "cell_type": "code",
   "execution_count": 11,
   "id": "99f1342c-3f5f-4d27-aa30-e6c9853d0d39",
   "metadata": {},
   "outputs": [
    {
     "data": {
      "text/plain": [
       "title            0\n",
       "author         122\n",
       "price            2\n",
       "pages           12\n",
       "avg_reviews    123\n",
       "n_reviews        0\n",
       "dimensions      32\n",
       "weight           3\n",
       "language         3\n",
       "dtype: int64"
      ]
     },
     "execution_count": 11,
     "metadata": {},
     "output_type": "execute_result"
    }
   ],
   "source": [
    "df.isnull().sum()"
   ]
  },
  {
   "cell_type": "code",
   "execution_count": 13,
   "id": "f0a0ebed-1cf3-41b5-809d-6a8410041713",
   "metadata": {},
   "outputs": [],
   "source": [
    "pages = df['pages']\n",
    "pages_mean = pages.mean()"
   ]
  },
  {
   "cell_type": "code",
   "execution_count": 14,
   "id": "5b3992ca-da29-4383-909d-99fa250a7310",
   "metadata": {},
   "outputs": [],
   "source": [
    "pages.fillna(pages_mean, inplace=True)"
   ]
  },
  {
   "cell_type": "code",
   "execution_count": 15,
   "id": "068ba3c4-6791-40d3-bf60-0c95547c92b8",
   "metadata": {},
   "outputs": [
    {
     "data": {
      "text/plain": [
       "title            0\n",
       "author         122\n",
       "price            2\n",
       "pages            0\n",
       "avg_reviews    123\n",
       "n_reviews        0\n",
       "dimensions      32\n",
       "weight           3\n",
       "language         3\n",
       "dtype: int64"
      ]
     },
     "execution_count": 15,
     "metadata": {},
     "output_type": "execute_result"
    }
   ],
   "source": [
    "df.isnull().sum()"
   ]
  },
  {
   "cell_type": "code",
   "execution_count": 16,
   "id": "0c7782c4-b472-4456-8b6b-ebe39256fa8e",
   "metadata": {},
   "outputs": [
    {
     "data": {
      "image/png": "[encoded data removed]",
      "text/plain": [
       "<Figure size 800x400 with 1 Axes>"
      ]
     },
     "metadata": {},
     "output_type": "display_data"
    }
   ],
   "source": [
    "df['pages'].hist(bins=50)\n",
    "plt.title(\"Histogram of books' number of pages\")\n",
    "plt.xlabel(\"Pages\")\n",
    "plt.show()"
   ]
  },
  {
   "cell_type": "markdown",
   "id": "3dc58e4a-c25d-4267-b319-93891138bd5f",
   "metadata": {},
   "source": [
    "#### Question 3"
   ]
  },
  {
   "cell_type": "code",
   "execution_count": 23,
   "id": "d56c2046-fdd2-44e8-bd7b-0f6c4e191833",
   "metadata": {},
   "outputs": [],
   "source": [
    "### inspect the 'weight' column carefully\n",
    "### plot a histogram of books' weight using 50 bins\n",
    "### decide if the distribution is symmetric, skewed positive or skewed negative\n",
    "### use both the histogram and required computations for this decision"
   ]
  },
  {
   "cell_type": "markdown",
   "id": "756c9477-1a20-4962-9289-3dc593dd4ca5",
   "metadata": {},
   "source": [
    "#### Question 4"
   ]
  },
  {
   "cell_type": "code",
   "execution_count": 26,
   "id": "8cb0cdb7-8b3d-4a84-b30c-e59df8797135",
   "metadata": {},
   "outputs": [],
   "source": [
    "### compute Pearson's correlation between a book's volume (inferred by its dimensions) and price in the data\n",
    "### (you can use the built-in Series.corr() function for that purpose)"
   ]
  },
  {
   "cell_type": "markdown",
   "id": "1f59426d-26d0-4110-bdc1-fafe3157edb7",
   "metadata": {},
   "source": [
    "#### Question 5"
   ]
  },
  {
   "cell_type": "code",
   "execution_count": 29,
   "id": "9bd71993-a837-4a79-82c4-06bc67ac2c38",
   "metadata": {},
   "outputs": [],
   "source": [
    "### show a scatter plot of a book's volume (inferred by its dimensions) and price\n",
    "### do the results fit the score you got in the previous cell? (no need to print answer to this question)"
   ]
  },
  {
   "cell_type": "markdown",
   "id": "fea8fab2-2945-43df-b35d-9853c1afb669",
   "metadata": {},
   "source": [
    "#### Question 6"
   ]
  },
  {
   "cell_type": "code",
   "execution_count": 32,
   "id": "0d891df9-7692-4952-a2b9-45c91038ad20",
   "metadata": {},
   "outputs": [],
   "source": [
    "### inspect book titles carefully: they can be roughly split by keyphrases:\n",
    "### ['data science', 'data analytics', 'data engineering', 'machine learning', 'statistics', \n",
    "### 'deep learning', 'natural language processing']\n",
    "\n",
    "### a book belongs to one of the above categories if its name contains the corresponding keyphrase\n",
    "### display the number of books that fall into each category and their total, in the same table\n",
    "### some books may not belong to any of the listed above categories\n",
    "### category match should be case insensitive"
   ]
  },
  {
   "cell_type": "markdown",
   "id": "0c9f0ced-0fec-4ffa-a490-81dc78899680",
   "metadata": {},
   "source": [
    "#### Question 7"
   ]
  },
  {
   "cell_type": "code",
   "execution_count": 35,
   "id": "403786ac-bcad-4b79-af8c-37e2885deb78",
   "metadata": {},
   "outputs": [],
   "source": [
    "### display the same result where the dataframe is sorted by the number of books, descending\n",
    "### no need to display the total amount in this result - drop it"
   ]
  },
  {
   "cell_type": "markdown",
   "id": "877ac449-b9cd-425e-873f-74e93dcfda45",
   "metadata": {},
   "source": [
    "#### Question 8"
   ]
  },
  {
   "cell_type": "code",
   "execution_count": 38,
   "id": "f9c6e631-a9de-49e9-95e7-c919bf789c90",
   "metadata": {},
   "outputs": [],
   "source": [
    "### sample 10000 values from N~(50, 10)\n",
    "### for this pirpose use https://numpy.org/doc/stable/reference/random/generated/numpy.random.normal.html\n",
    "\n",
    "### what portion of the distribution is found in the range (42.5, 57.5)? -- calculate using z table\n",
    "### (recall the NormalDist().cdf() function we used at the lecture)\n",
    "\n",
    "### what portion of the distribution is found in the range (42.5, 57.5)? -- compute empirically using the sampled values\n",
    "### report both values (calculated and empirical)"
   ]
  },
  {
   "cell_type": "markdown",
   "id": "d58f2b66-dc90-4c54-9499-66c46e3a192f",
   "metadata": {},
   "source": [
    "#### Question 9"
   ]
  },
  {
   "cell_type": "code",
   "execution_count": 41,
   "id": "1ca084c9-3a03-4219-9530-8bc6437a7a70",
   "metadata": {},
   "outputs": [],
   "source": [
    "### compute confidence interval of 90% for the true population mean of a book price on Amazon\n",
    "### report left and right boundaries"
   ]
  },
  {
   "cell_type": "markdown",
   "id": "5a077478-b75e-4592-ae78-745678fa0820",
   "metadata": {},
   "source": [
    "#### Question 10"
   ]
  },
  {
   "cell_type": "code",
   "execution_count": 48,
   "id": "5aa994a1-d98f-4b12-aabf-9af310b49523",
   "metadata": {},
   "outputs": [],
   "source": [
    "### can one say with 85% confidence that the true population mean of a book price resides within the [49.0, 54.0] interval?\n",
    "### show your computations, and print your answer: yes or no"
   ]
  },
  {
   "cell_type": "code",
   "execution_count": null,
   "id": "636a0b93-4aa1-4a49-a7b1-2ab9f58a124f",
   "metadata": {},
   "outputs": [],
   "source": []
  }
 ],
 "metadata": {
  "kernelspec": {
   "display_name": "Python 3 (ipykernel)",
   "language": "python",
   "name": "python3"
  },
  "language_info": {
   "codemirror_mode": {
    "name": "ipython",
    "version": 3
   },
   "file_extension": ".py",
   "mimetype": "text/x-python",
   "name": "python",
   "nbconvert_exporter": "python",
   "pygments_lexer": "ipython3",
   "version": "3.11.5"
  }
 },
 "nbformat": 4,
 "nbformat_minor": 5
}
