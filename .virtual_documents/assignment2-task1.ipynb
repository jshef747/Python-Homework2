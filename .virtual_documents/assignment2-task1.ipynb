import pandas as pd
import matplotlib.pyplot as plt
plt.rcParams.update({'font.size': 20, 'figure.figsize': (8, 4)})

%matplotlib inline
import matplotlib_inline
matplotlib_inline.backend_inline.set_matplotlib_formats('svg')

import seaborn as sns
sns.set()


df = pd.read_csv("supermarket_sales.csv")
df.info()





### how many purchases (rows in the table, not 'Quantity') were done by Male and Female customers?





m_amount = len(df[df['Gender'] == 'Male'])
f_amount = len(df[df['Gender'] == 'Female'])

# do not print any intermediate results
# print *only your final* result in the form of a data frame (for clarity)

result = [('purchases by male', m_amount), ('purchases by female', f_amount)]
pd.DataFrame(result)





### what is the average Rating for products in the "Home and lifestyle" Product line?


avg_home_lifestyle_rating = df[df['Product line'] == 'Home and lifestyle']['Rating'].mean()
result = [ ('Home and lifestyle average rating', avg_home_lifestyle_rating)]
pd.DataFrame(result)





### how many products in each Product line were sold during the first week (days 1-7 including) of February 2019?
### use the 'Quantity' column for that purpose - the number of products purchased


df['Date'] = pd.to_datetime(df['Date'], format="%m/%d/%Y", errors='coerce')


cond_1st_week = (df['Date'].dt.day >= 1) & (df['Date'].dt.day <= 7) 
cond_feb = df['Date'].dt.month == 2
cond_2019 = df['Date'].dt.year == 2019
product_and_quantity = pd.DataFrame(df[cond_1st_week & cond_feb & cond_2019].groupby('Product line')['Quantity'].sum().reset_index())
product_and_quantity






### plot a bar chart showing the number of products per category computed in the previous question


product_and_quantity.plot(kind='bar', x='Product line', y='Quantity', title  = 'Quantity per product')
plt.show()





### plot the same bar chart as above - split by gender (male, female)
### the split bar chart is called stacked bar: look up "plot stacked bar charts from a dataframe" to see how to plot it


feb_1st_week_quanity_by_gender = df[cond_1st_week & cond_feb & cond_2019].groupby(['Product line', 'Gender'])['Quantity'].sum().unstack()
feb_1st_week_quanity_by_gender.reset_index()
feb_1st_week_quanity_by_gender.plot(kind='bar', stacked=True)
plt.show()





### what is the total sales ('Total') done by each Payment type during the whole period?
### use the full data in the dataset (not the first week of March) from now on


df.groupby('Payment')['Total'].sum().reset_index()





### plot a chart with total sales ('Total') of the "Sports and travel" products by calendar week (Monday-Sunday): 
### note the first and the last week can be incomplete (for instance, the data starts on Wednesday, and ends on Friday)
### assume all our sales data spans the same year (for instance, 2019)

### you can make use of the isocalendar() function: https://www.geeksforgeeks.org/isocalendar-function-of-datetime-date-class-in-python/

### x axis are weeks enumerated from the first to the last calendar week in the data
### y axis is the total sales that week


df['Week'] = df['Date'].dt.isocalendar().week
df_sports = df[df['Product line'] == 'Sports and travel']
df_sports
sports_by_week = df_sports.groupby('Week')['Total'].sum().reset_index()
sports_by_week.plot(kind='bar', x='Week', y='Total', title  = 'sports and travel per month')
plt.show()





### plot a line chart of total sales ('Total') per hour in our dataset
### the x axis will be an hour (e.g., 9, 10, 11), and the y axis will be the total amout of sales during that hour
### (e.g., for 9 - all sales between 09:00 and 10:00)


df['Time'] = pd.to_datetime(df['Time'], format='%H:%M')
df['Hour'] = df['Time'].dt.hour
total_per_hour = df.groupby('Hour')['Total'].sum()
total_per_hour.plot(kind='line', x='Hour', y='Total', title  = 'total per hour')
plt.show()





### plot a line chart of the total number of purchases (rows) per hour in our dataset
### the x axis will be an hour (e.g., 9, 10, 11), and the y axis will be the total number of purchases during that hour
### (e.g., for 9 - all sales between 09:00 and 10:00)


purchases_per_hour = df.groupby('Hour').size()
purchases_per_hour.plot(kind='line', x='Hour', y='purchases', title  = 'purchases per hour')
plt.show()





### what is the total income of strategic products by City?

### for each non-strategic product (as detailed in the product_types_strategy.csv file), 
###    display break down of total sales by cities - a table with three columns: 
###    (1) product line, (2) city and (3) total sales (the "Total" column) for that line in the city


str_data = pd.read_csv("product_types_strategy.csv")
cond_str = str_data[str_data['strategic'] == 'yes']
str_list = cond_str['Product type'].tolist()
cond_strategic = df[df['Product line'].isin(str_list)]
pd.DataFrame([('Total startegic income' , cond_strategic['Total'].sum())])


cond_strategic_no = df[~df['Product line'].isin(str_list)]
pd.DataFrame(cond_strategic_no.groupby(['Product line','City'])['Total'].sum())
